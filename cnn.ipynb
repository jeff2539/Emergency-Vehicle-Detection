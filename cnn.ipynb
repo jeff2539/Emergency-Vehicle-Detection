{
 "cells": [
  {
   "cell_type": "code",
   "execution_count": 1,
   "metadata": {},
   "outputs": [
    {
     "name": "stderr",
     "output_type": "stream",
     "text": [
      "Using TensorFlow backend.\n"
     ]
    }
   ],
   "source": [
    "# Convolutional Neural Network\n",
    "\n",
    "# Installing Theano\n",
    "# pip install --upgrade --no-deps git+git://github.com/Theano/Theano.git\n",
    "\n",
    "# Installing Tensorflow\n",
    "# Install Tensorflow from the website: https://www.tensorflow.org/versions/r0.12/get_started/os_setup.html\n",
    "\n",
    "# Installing Keras\n",
    "# pip install --upgrade keras\n",
    "\n",
    "# Part 1 - Building the CNN\n",
    "\n",
    "# Importing the Keras libraries and packages\n",
    "from keras.models import Sequential\n",
    "from keras.layers import Convolution2D\n",
    "from keras.layers import MaxPooling2D\n",
    "from keras.layers import Flatten\n",
    "from keras.layers import Dense"
   ]
  },
  {
   "cell_type": "code",
   "execution_count": 2,
   "metadata": {},
   "outputs": [
    {
     "name": "stderr",
     "output_type": "stream",
     "text": [
      "c:\\python 36\\lib\\site-packages\\ipykernel_launcher.py:5: UserWarning: Update your `Conv2D` call to the Keras 2 API: `Conv2D(32, (3, 3), input_shape=(64, 64, 3..., activation=\"relu\")`\n",
      "  \"\"\"\n",
      "c:\\python 36\\lib\\site-packages\\ipykernel_launcher.py:11: UserWarning: Update your `Conv2D` call to the Keras 2 API: `Conv2D(32, (3, 3), activation=\"relu\")`\n",
      "  # This is added back by InteractiveShellApp.init_path()\n",
      "c:\\python 36\\lib\\site-packages\\ipykernel_launcher.py:18: UserWarning: Update your `Dense` call to the Keras 2 API: `Dense(activation=\"relu\", units=128)`\n",
      "c:\\python 36\\lib\\site-packages\\ipykernel_launcher.py:19: UserWarning: Update your `Dense` call to the Keras 2 API: `Dense(activation=\"sigmoid\", units=1)`\n"
     ]
    }
   ],
   "source": [
    "# Initialising the CNN\n",
    "classifier = Sequential()\n",
    "\n",
    "# Step 1 - Convolution\n",
    "classifier.add(Convolution2D(32, 3, 3, input_shape = (64, 64, 3), activation = 'relu'))\n",
    "\n",
    "# Step 2 - Pooling\n",
    "classifier.add(MaxPooling2D(pool_size = (2, 2)))\n",
    "\n",
    "# Adding a second convolutional layer\n",
    "classifier.add(Convolution2D(32, 3, 3, activation = 'relu'))\n",
    "classifier.add(MaxPooling2D(pool_size = (2, 2)))\n",
    "\n",
    "# Step 3 - Flattening\n",
    "classifier.add(Flatten())\n",
    "\n",
    "# Step 4 - Full connection\n",
    "classifier.add(Dense(output_dim = 128, activation = 'relu'))\n",
    "classifier.add(Dense(output_dim = 1, activation = 'sigmoid'))\n",
    "\n",
    "# Compiling the CNN\n",
    "classifier.compile(optimizer = 'adam', loss = 'binary_crossentropy', metrics = ['accuracy'])"
   ]
  },
  {
   "cell_type": "code",
   "execution_count": 3,
   "metadata": {},
   "outputs": [
    {
     "name": "stdout",
     "output_type": "stream",
     "text": [
      "Found 211 images belonging to 2 classes.\n",
      "Found 25 images belonging to 2 classes.\n"
     ]
    },
    {
     "name": "stderr",
     "output_type": "stream",
     "text": [
      "c:\\python 36\\lib\\site-packages\\ipykernel_launcher.py:26: UserWarning: The semantics of the Keras 2 argument `steps_per_epoch` is not the same as the Keras 1 argument `samples_per_epoch`. `steps_per_epoch` is the number of batches to draw from the generator at each epoch. Basically steps_per_epoch = samples_per_epoch/batch_size. Similarly `nb_val_samples`->`validation_steps` and `val_samples`->`steps` arguments have changed. Update your method calls accordingly.\n",
      "c:\\python 36\\lib\\site-packages\\ipykernel_launcher.py:26: UserWarning: Update your `fit_generator` call to the Keras 2 API: `fit_generator(<keras_pre..., validation_data=<keras_pre..., steps_per_epoch=14, epochs=25, validation_steps=25)`\n"
     ]
    },
    {
     "name": "stdout",
     "output_type": "stream",
     "text": [
      "Epoch 1/25\n",
      "14/14 [==============================] - 7s 526ms/step - loss: 0.6142 - acc: 0.7714 - val_loss: 0.3156 - val_acc: 1.0000\n",
      "Epoch 2/25\n",
      "14/14 [==============================] - 6s 412ms/step - loss: 0.1360 - acc: 0.9952 - val_loss: 0.1083 - val_acc: 0.9613\n",
      "Epoch 3/25\n",
      "14/14 [==============================] - 6s 446ms/step - loss: 0.0233 - acc: 0.9904 - val_loss: 0.0026 - val_acc: 1.0000\n",
      "Epoch 4/25\n",
      "14/14 [==============================] - 6s 434ms/step - loss: 0.0029 - acc: 1.0000 - val_loss: 7.7060e-04 - val_acc: 1.0000\n",
      "Epoch 5/25\n",
      "14/14 [==============================] - 7s 473ms/step - loss: 0.0019 - acc: 1.0000 - val_loss: 1.9149e-04 - val_acc: 1.0000\n",
      "Epoch 6/25\n",
      "14/14 [==============================] - 7s 479ms/step - loss: 0.0010 - acc: 1.0000 - val_loss: 1.0030e-04 - val_acc: 1.0000\n",
      "Epoch 7/25\n",
      "14/14 [==============================] - 7s 471ms/step - loss: 4.7579e-04 - acc: 1.0000 - val_loss: 1.0311e-04 - val_acc: 1.0000\n",
      "Epoch 8/25\n",
      "14/14 [==============================] - 7s 467ms/step - loss: 2.9451e-04 - acc: 1.0000 - val_loss: 6.1360e-05 - val_acc: 1.0000\n",
      "Epoch 9/25\n",
      "14/14 [==============================] - 7s 504ms/step - loss: 2.9963e-04 - acc: 1.0000 - val_loss: 5.2700e-05 - val_acc: 1.0000\n",
      "Epoch 10/25\n",
      "14/14 [==============================] - 7s 493ms/step - loss: 4.1561e-04 - acc: 1.0000 - val_loss: 3.9900e-05 - val_acc: 1.0000\n",
      "Epoch 11/25\n",
      "14/14 [==============================] - 7s 472ms/step - loss: 1.7557e-04 - acc: 1.0000 - val_loss: 6.0206e-05 - val_acc: 1.0000\n",
      "Epoch 12/25\n",
      "14/14 [==============================] - 7s 528ms/step - loss: 4.0159e-04 - acc: 1.0000 - val_loss: 6.4088e-05 - val_acc: 1.0000\n",
      "Epoch 13/25\n",
      "14/14 [==============================] - 7s 517ms/step - loss: 4.6515e-04 - acc: 1.0000 - val_loss: 2.9070e-05 - val_acc: 1.0000\n",
      "Epoch 14/25\n",
      "14/14 [==============================] - 7s 521ms/step - loss: 1.7830e-04 - acc: 1.0000 - val_loss: 2.4188e-05 - val_acc: 1.0000\n",
      "Epoch 15/25\n",
      "14/14 [==============================] - 7s 478ms/step - loss: 1.1722e-04 - acc: 1.0000 - val_loss: 1.7006e-05 - val_acc: 1.0000\n",
      "Epoch 16/25\n",
      "14/14 [==============================] - 8s 557ms/step - loss: 1.6762e-04 - acc: 1.0000 - val_loss: 1.8845e-05 - val_acc: 1.0000\n",
      "Epoch 17/25\n",
      "14/14 [==============================] - 7s 496ms/step - loss: 1.2042e-04 - acc: 1.0000 - val_loss: 1.3305e-05 - val_acc: 1.0000\n",
      "Epoch 18/25\n",
      "14/14 [==============================] - 7s 473ms/step - loss: 9.3821e-05 - acc: 1.0000 - val_loss: 1.1486e-05 - val_acc: 1.0000\n",
      "Epoch 19/25\n",
      "14/14 [==============================] - 6s 452ms/step - loss: 5.4397e-05 - acc: 1.0000 - val_loss: 1.0890e-05 - val_acc: 1.0000\n",
      "Epoch 20/25\n",
      "14/14 [==============================] - 7s 499ms/step - loss: 1.1845e-04 - acc: 1.0000 - val_loss: 1.0744e-05 - val_acc: 1.0000\n",
      "Epoch 21/25\n",
      "14/14 [==============================] - 7s 476ms/step - loss: 8.3348e-05 - acc: 1.0000 - val_loss: 7.9205e-06 - val_acc: 1.0000\n",
      "Epoch 22/25\n",
      "14/14 [==============================] - 7s 503ms/step - loss: 6.8560e-05 - acc: 1.0000 - val_loss: 9.7168e-06 - val_acc: 1.0000\n",
      "Epoch 23/25\n",
      "14/14 [==============================] - 7s 494ms/step - loss: 8.7160e-05 - acc: 1.0000 - val_loss: 9.2415e-06 - val_acc: 1.0000\n",
      "Epoch 24/25\n",
      "14/14 [==============================] - 6s 434ms/step - loss: 4.3905e-05 - acc: 1.0000 - val_loss: 7.0214e-06 - val_acc: 1.0000\n",
      "Epoch 25/25\n",
      "14/14 [==============================] - 7s 478ms/step - loss: 5.9212e-05 - acc: 1.0000 - val_loss: 8.6188e-06 - val_acc: 1.0000\n"
     ]
    },
    {
     "data": {
      "text/plain": [
       "<keras.callbacks.History at 0x2935e845cc0>"
      ]
     },
     "execution_count": 3,
     "metadata": {},
     "output_type": "execute_result"
    }
   ],
   "source": [
    "# Part 2 - Fitting the CNN to the images\n",
    "\n",
    "from keras.preprocessing.image import ImageDataGenerator\n",
    "\n",
    "train_datagen = ImageDataGenerator(rescale = 1./255,\n",
    "                                   shear_range = 0.2,\n",
    "                                   zoom_range = 0.2,\n",
    "                                   horizontal_flip = True)\n",
    "\n",
    "test_datagen = ImageDataGenerator(rescale = 1./255)\n",
    "\n",
    "training_set = train_datagen.flow_from_directory('dataset/train',\n",
    "                                                 target_size = (64, 64),\n",
    "                                                 batch_size = 15,\n",
    "                                                 class_mode = 'binary')\n",
    "\n",
    "test_set = test_datagen.flow_from_directory('dataset/test',\n",
    "                                            target_size = (64, 64),\n",
    "                                            batch_size = 15,\n",
    "                                            class_mode = 'binary')\n",
    "\n",
    "classifier.fit_generator(training_set,\n",
    "                         samples_per_epoch = 211,\n",
    "                         nb_epoch = 25,\n",
    "                         validation_data = test_set,\n",
    "                         nb_val_samples = 25)\n"
   ]
  }
 ],
 "metadata": {
  "kernelspec": {
   "display_name": "Python 3",
   "language": "python",
   "name": "python3"
  },
  "language_info": {
   "codemirror_mode": {
    "name": "ipython",
    "version": 3
   },
   "file_extension": ".py",
   "mimetype": "text/x-python",
   "name": "python",
   "nbconvert_exporter": "python",
   "pygments_lexer": "ipython3",
   "version": "3.6.5"
  }
 },
 "nbformat": 4,
 "nbformat_minor": 2
}
